{
 "cells": [
  {
   "cell_type": "markdown",
   "metadata": {},
   "source": [
    "# Assignment 3 Iterations, Strings, Files, Lists and Tuples"
   ]
  },
  {
   "cell_type": "markdown",
   "metadata": {},
   "source": [
    "## Chapter 5"
   ]
  },
  {
   "cell_type": "markdown",
   "metadata": {},
   "source": [
    "### Exercise 1"
   ]
  },
  {
   "cell_type": "code",
   "execution_count": 22,
   "metadata": {},
   "outputs": [
    {
     "name": "stdout",
     "output_type": "stream",
     "text": [
      "enter the number6\n",
      "enter the number5\n",
      "enter the numberDone\n",
      "\n",
      "sum is 11.0\n",
      "count is 2\n",
      "avg is 5.5\n"
     ]
    }
   ],
   "source": [
    "sum1=0\n",
    "count=0\n",
    "while True:\n",
    "    num=input(\"enter the number\")\n",
    "    if num=='Done':\n",
    "        print(\"\")\n",
    "        break\n",
    "    try:\n",
    "        num1=float(num)\n",
    "    except:\n",
    "        print(\"bad input\")\n",
    "        continue\n",
    "    count = count+1\n",
    "    sum1=sum1+num1\n",
    "print('sum is', sum1)\n",
    "print('count is', count)\n",
    "print('avg is', sum1/count)"
   ]
  },
  {
   "cell_type": "markdown",
   "metadata": {},
   "source": [
    "### Exercise 2"
   ]
  },
  {
   "cell_type": "code",
   "execution_count": 1,
   "metadata": {},
   "outputs": [
    {
     "name": "stdout",
     "output_type": "stream",
     "text": [
      "enter the number4\n",
      "enter the number5\n",
      "enter the number6\n",
      "enter the numberDone\n",
      "sum is 15.0\n",
      "count is 3\n",
      "list [4.0, 5.0, 6.0]\n",
      "max is : 6.0\n",
      "min is : 4.0\n"
     ]
    }
   ],
   "source": [
    "sum1=0\n",
    "count=0\n",
    "l=list()\n",
    "while True:\n",
    "    num=input(\"enter the number\")\n",
    "    if num=='Done':\n",
    "        break\n",
    "    try:\n",
    "        num1=float(num)\n",
    "    except:\n",
    "        print(\"bad input\")\n",
    "        continue\n",
    "    count = count+1\n",
    "    sum1=sum1+num1\n",
    "    l.append(num1)\n",
    "print('sum is', sum1)\n",
    "print('count is', count)\n",
    "print('list', l)\n",
    "print('max is :',max(l))\n",
    "print('min is :' ,min(l))"
   ]
  },
  {
   "cell_type": "markdown",
   "metadata": {},
   "source": [
    "## Chapter 6"
   ]
  },
  {
   "cell_type": "markdown",
   "metadata": {},
   "source": [
    "### Exercise 5"
   ]
  },
  {
   "cell_type": "code",
   "execution_count": 48,
   "metadata": {},
   "outputs": [
    {
     "name": "stdout",
     "output_type": "stream",
     "text": [
      "0.8475\n"
     ]
    }
   ],
   "source": [
    "str1 = 'X-DSPAM-Confidence:0.8475'\n",
    "find =str1.find(':')\n",
    "str2=str1[find+1:]\n",
    "number=float(str2)\n",
    "print(number)"
   ]
  },
  {
   "cell_type": "markdown",
   "metadata": {},
   "source": [
    "## Chapter 7"
   ]
  },
  {
   "cell_type": "markdown",
   "metadata": {},
   "source": [
    "### Exercise 2"
   ]
  },
  {
   "cell_type": "code",
   "execution_count": 18,
   "metadata": {},
   "outputs": [
    {
     "name": "stdout",
     "output_type": "stream",
     "text": [
      "C:\\Users\\Sahil\n",
      "C:\\Users\\Sahil\\Desktop\n",
      "enter the name of filetest.txt\n",
      "C:\\Users\\Sahil\\Desktop\\test.txt\n",
      "<_io.TextIOWrapper name='C:\\\\Users\\\\Sahil\\\\Desktop\\\\test.txt' mode='r' encoding='cp1252'>\n",
      "total lines is 20.269400000000005\n",
      "total count is 27\n",
      "average spam is 0.7507185185185187\n"
     ]
    }
   ],
   "source": [
    "import os\n",
    "count=0\n",
    "total=0\n",
    "d= os.getcwd()\n",
    "print(d)\n",
    "d1=os.path.join(d,\"Desktop\")\n",
    "print(d1)\n",
    "filename=input('enter the name of file')\n",
    "try:\n",
    "    d2=os.path.join(d1,filename)\n",
    "    print(d2)\n",
    "    file2=open(d2)\n",
    "    print(file2)\n",
    "    for lines in file2:\n",
    "        if lines.startswith('X-DSPAM-Confidence: '):\n",
    "            count=count+1\n",
    "            colon=lines.find(':')\n",
    "            num=lines[colon+1:].strip()\n",
    "            numfinal=float(num)\n",
    "            total=total+numfinal\n",
    "    print(\"total lines is\", total)\n",
    "    print(\"total count is\", count)\n",
    "    print(\"average spam is\", total/count)\n",
    "except:\n",
    "    print(\"file '\", filename, \"'not found\")\n"
   ]
  },
  {
   "cell_type": "markdown",
   "metadata": {},
   "source": [
    "## Chapter 8"
   ]
  },
  {
   "cell_type": "markdown",
   "metadata": {},
   "source": [
    "### Exercise 4"
   ]
  },
  {
   "cell_type": "code",
   "execution_count": 40,
   "metadata": {},
   "outputs": [
    {
     "name": "stdout",
     "output_type": "stream",
     "text": [
      "['But', 'soft', 'what', 'light', 'through', 'yonder', 'window', 'breaks', 'It', 'is', 'the', 'east', 'and', 'Juliet', 'is', 'the', 'sun', 'Arise', 'fair', 'sun', 'and', 'kill', 'the', 'envious', 'moon', 'Who', 'is', 'already', 'sick', 'and', 'pale', 'with', 'grief']\n",
      "['Arise', 'But', 'It', 'Juliet', 'Who', 'already', 'and', 'breaks', 'east', 'envious', 'fair', 'grief', 'is', 'kill', 'light', 'moon', 'pale', 'sick', 'soft', 'sun', 'the', 'through', 'what', 'window', 'with', 'yonder']\n"
     ]
    }
   ],
   "source": [
    "fileopen=open('C:\\\\Users\\\\Sahil\\\\Desktop\\\\Romeo.txt')\n",
    "testopen=fileopen.read()\n",
    "splittest=testopen.rstrip().split()\n",
    "print(splittest)\n",
    "m=list()\n",
    "for word in splittest:\n",
    "    if word in m:\n",
    "        continue\n",
    "    else:\n",
    "        m.append(word)\n",
    "    m.sort()\n",
    "print(m)"
   ]
  },
  {
   "cell_type": "markdown",
   "metadata": {},
   "source": [
    "### Exercise 5"
   ]
  },
  {
   "cell_type": "code",
   "execution_count": 12,
   "metadata": {},
   "outputs": [
    {
     "name": "stdout",
     "output_type": "stream",
     "text": [
      "stephen.marquard@uct.ac.za\n",
      "stephen.marquard@uct.ac.za\n",
      "louis@media.berkeley.edu\n",
      "louis@media.berkeley.edu\n",
      "zqian@umich.edu\n",
      "zqian@umich.edu\n",
      "rjlowe@iupui.edu\n",
      "rjlowe@iupui.edu\n",
      "zqian@umich.edu\n",
      "zqian@umich.edu\n",
      "rjlowe@iupui.edu\n",
      "rjlowe@iupui.edu\n",
      "cwen@iupui.edu\n",
      "cwen@iupui.edu\n",
      "cwen@iupui.edu\n",
      "cwen@iupui.edu\n",
      "gsilver@umich.edu\n",
      "gsilver@umich.edu\n",
      "gsilver@umich.edu\n",
      "gsilver@umich.edu\n",
      "zqian@umich.edu\n",
      "zqian@umich.edu\n",
      "gsilver@umich.edu\n",
      "gsilver@umich.edu\n",
      "wagnermr@iupui.edu\n",
      "wagnermr@iupui.edu\n",
      "zqian@umich.edu\n",
      "zqian@umich.edu\n",
      "antranig@caret.cam.ac.uk\n",
      "antranig@caret.cam.ac.uk\n",
      "gopal.ramasammycook@gmail.com\n",
      "gopal.ramasammycook@gmail.com\n",
      "david.horwitz@uct.ac.za\n",
      "david.horwitz@uct.ac.za\n",
      "david.horwitz@uct.ac.za\n",
      "david.horwitz@uct.ac.za\n",
      "david.horwitz@uct.ac.za\n",
      "david.horwitz@uct.ac.za\n",
      "david.horwitz@uct.ac.za\n",
      "david.horwitz@uct.ac.za\n",
      "stephen.marquard@uct.ac.za\n",
      "stephen.marquard@uct.ac.za\n",
      "louis@media.berkeley.edu\n",
      "louis@media.berkeley.edu\n",
      "louis@media.berkeley.edu\n",
      "louis@media.berkeley.edu\n",
      "ray@media.berkeley.edu\n",
      "ray@media.berkeley.edu\n",
      "cwen@iupui.edu\n",
      "cwen@iupui.edu\n",
      "cwen@iupui.edu\n",
      "cwen@iupui.edu\n",
      "cwen@iupui.edu\n",
      "cwen@iupui.edu\n",
      "total count is 54\n"
     ]
    }
   ],
   "source": [
    "fileopen=open('C:\\\\Users\\\\Sahil\\\\Desktop\\\\mbox-short.txt')\n",
    "m=list()\n",
    "count=0\n",
    "for word in fileopen:\n",
    "    if word.startswith('From'):\n",
    "        nextword=word.rstrip().split()\n",
    "        mail=m.append(nextword[1])\n",
    "        count=count+1\n",
    "for new in m:\n",
    "    print(new)    \n",
    "print(\"total count is\", count)\n",
    "        \n"
   ]
  },
  {
   "cell_type": "markdown",
   "metadata": {},
   "source": [
    "## Chapter 9"
   ]
  },
  {
   "cell_type": "markdown",
   "metadata": {},
   "source": [
    "### Exercise 4"
   ]
  },
  {
   "cell_type": "code",
   "execution_count": 15,
   "metadata": {},
   "outputs": [
    {
     "name": "stdout",
     "output_type": "stream",
     "text": [
      "C:\\Users\\Sahil\n",
      "C:\\Users\\Sahil\\Desktop\n",
      "enter the name of filembox-short.txt\n",
      "C:\\Users\\Sahil\\Desktop\\mbox-short.txt\n",
      "cwen@iupui.edu\n",
      "5\n"
     ]
    }
   ],
   "source": [
    "import os\n",
    "d= os.getcwd()\n",
    "print(d)\n",
    "d1=os.path.join(d,\"Desktop\")\n",
    "print(d1)\n",
    "maximum=0\n",
    "filename=input('enter the name of file')\n",
    "try:\n",
    "    d2=os.path.join(d1,filename)\n",
    "    print(d2)\n",
    "    file2=open(d2)\n",
    "    total = dict()\n",
    "    for line in file2:\n",
    "        if line.startswith('From:'):\n",
    "            line2=line.split()\n",
    "            email=line2[1]\n",
    "            if email not in total:\n",
    "                total[email]=1\n",
    "            else:\n",
    "                total[email] = total[email]+1 \n",
    "    for i in total:\n",
    "        value=total.get(i)\n",
    "        if maximum<value:\n",
    "            maximum = value\n",
    "    for i in total:\n",
    "        if maximum==total.get(i):\n",
    "            max_email=i\n",
    "    print(max_email)\n",
    "    print(maximum)\n",
    "except:\n",
    "    print('Invalid')\n",
    "                "
   ]
  },
  {
   "cell_type": "markdown",
   "metadata": {},
   "source": [
    "### Exercise 5"
   ]
  },
  {
   "cell_type": "code",
   "execution_count": 3,
   "metadata": {},
   "outputs": [
    {
     "name": "stdout",
     "output_type": "stream",
     "text": [
      "C:\\Users\\Sahil\n",
      "C:\\Users\\Sahil\\Desktop\n",
      "enter the name of filembox-short.txt\n",
      "C:\\Users\\Sahil\\Desktop\\mbox-short.txt\n",
      "{'uct.ac.za': 6, 'media.berkeley.edu': 4, 'umich.edu': 7, 'iupui.edu': 8, 'caret.cam.ac.uk': 1, 'gmail.com': 1}\n"
     ]
    }
   ],
   "source": [
    "import os\n",
    "d= os.getcwd()\n",
    "print(d)\n",
    "d1=os.path.join(d,\"Desktop\")\n",
    "print(d1)\n",
    "filename=input('enter the name of file')\n",
    "try:\n",
    "    d2=os.path.join(d1,filename)\n",
    "    print(d2)\n",
    "    file2=open(d2)\n",
    "    counts = dict()\n",
    "    for line in file2:\n",
    "       \n",
    "        if line.startswith('From:'):\n",
    "                line2 = line.strip()\n",
    "                element = line2.find('@')\n",
    "                domain = line2[element+1:]\n",
    "                if domain not in counts:\n",
    "                    counts[domain]=1\n",
    "                else:\n",
    "                    counts[domain] = counts[domain]+1 \n",
    "    print(counts)\n",
    "except:\n",
    "    print(\"invalid input\")"
   ]
  },
  {
   "cell_type": "markdown",
   "metadata": {},
   "source": [
    "## Chapter 10 "
   ]
  },
  {
   "cell_type": "markdown",
   "metadata": {},
   "source": [
    "### Exercise 2"
   ]
  },
  {
   "cell_type": "code",
   "execution_count": 17,
   "metadata": {},
   "outputs": [
    {
     "name": "stdout",
     "output_type": "stream",
     "text": [
      "C:\\Users\\Sahil\n",
      "C:\\Users\\Sahil\\Desktop\n",
      "enter the name of filembox-short.txt\n",
      "C:\\Users\\Sahil\\Desktop\\mbox-short.txt\n",
      "<_io.TextIOWrapper name='C:\\\\Users\\\\Sahil\\\\Desktop\\\\mbox-short.txt' mode='r' encoding='cp1252'>\n",
      "04 3\n",
      "06 1\n",
      "07 1\n",
      "09 2\n",
      "10 3\n",
      "11 6\n",
      "14 1\n",
      "15 2\n",
      "16 4\n",
      "17 2\n",
      "18 1\n",
      "19 1\n"
     ]
    }
   ],
   "source": [
    "import os\n",
    "d= os.getcwd()\n",
    "print(d)\n",
    "d1=os.path.join(d,\"Desktop\")\n",
    "print(d1)\n",
    "try:\n",
    "    filename=input('enter the name of file')\n",
    "    d2=os.path.join(d1,filename)\n",
    "    print(d2)\n",
    "    hour=dict()\n",
    "    finallist=list()\n",
    "    file2=open(d2)\n",
    "    print(file2)\n",
    "    for line in file2:\n",
    "        wordlist = line.split()\n",
    "        if len(wordlist)<2 or wordlist[0]!='From':\n",
    "            continue\n",
    "        element = wordlist[5].find(':')\n",
    "        hours = wordlist[5][:element]\n",
    "        if hours not in hour:\n",
    "            hour[hours] =1\n",
    "        else:\n",
    "            hour[hours]= hour[hours]+1\n",
    "    for key,value in list(hour.items()):\n",
    "        finallist.append((key,value))\n",
    "    finallist.sort()\n",
    "    for key, value in finallist:\n",
    "        print(key,value)\n",
    "except:\n",
    "    print(\"file doesn't exist\")"
   ]
  },
  {
   "cell_type": "markdown",
   "metadata": {},
   "source": [
    "### Excercise 3"
   ]
  },
  {
   "cell_type": "code",
   "execution_count": 20,
   "metadata": {},
   "outputs": [
    {
     "name": "stdout",
     "output_type": "stream",
     "text": [
      "enter the name of file\n",
      "sample.txt\n",
      "e 392\n",
      "t 265\n",
      "a 206\n",
      "r 199\n",
      "n 193\n",
      "o 188\n",
      "i 179\n",
      "s 179\n",
      "l 123\n",
      "h 114\n",
      "c 110\n",
      "f 89\n",
      "u 87\n",
      "d 87\n",
      "g 64\n",
      "y 56\n",
      "m 55\n",
      "p 51\n",
      "b 45\n",
      "w 41\n",
      "q 23\n",
      "v 22\n",
      "k 16\n",
      "x 13\n",
      "z 11\n",
      "j 3\n"
     ]
    }
   ],
   "source": [
    "import os\n",
    "d= os.getcwd()\n",
    "d1=os.path.join(d,\"Desktop\")\n",
    "filename=input('enter the name of file\\n')\n",
    "d2=os.path.join(d1,filename)\n",
    "file2=open(d2)\n",
    "fileRead = file2.read()\n",
    "\n",
    "dataInLower = fileRead.lower()\n",
    "\n",
    "azDict = dict()\n",
    "\n",
    "for character in dataInLower:\n",
    "    asciiValue = ord(character)\n",
    "    if asciiValue>=97 and asciiValue<=122:\n",
    "        if character not in azDict:\n",
    "            azDict[character] = 1\n",
    "        else:\n",
    "            azDict[character] = azDict[character] +1\n",
    "            \n",
    "azDict = dict(sorted(azDict.items(), key=lambda kv: kv[1], reverse=True))\n",
    "\n",
    "for word in azDict:\n",
    "    print(word, azDict[word])"
   ]
  },
  {
   "cell_type": "code",
   "execution_count": null,
   "metadata": {},
   "outputs": [],
   "source": []
  }
 ],
 "metadata": {
  "kernelspec": {
   "display_name": "Python 3",
   "language": "python",
   "name": "python3"
  },
  "language_info": {
   "codemirror_mode": {
    "name": "ipython",
    "version": 3
   },
   "file_extension": ".py",
   "mimetype": "text/x-python",
   "name": "python",
   "nbconvert_exporter": "python",
   "pygments_lexer": "ipython3",
   "version": "3.7.1"
  }
 },
 "nbformat": 4,
 "nbformat_minor": 2
}
