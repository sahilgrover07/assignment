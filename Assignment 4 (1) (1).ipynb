{
 "cells": [
  {
   "cell_type": "markdown",
   "metadata": {},
   "source": [
    "# Assignment 4 RegEx and Web Services"
   ]
  },
  {
   "cell_type": "markdown",
   "metadata": {},
   "source": [
    "## Chapter 11 "
   ]
  },
  {
   "cell_type": "markdown",
   "metadata": {},
   "source": [
    "### Exercise 1"
   ]
  },
  {
   "cell_type": "code",
   "execution_count": 2,
   "metadata": {},
   "outputs": [
    {
     "name": "stdout",
     "output_type": "stream",
     "text": [
      "C:\\Users\\Rahul\n",
      "enter the name of filembox-short.txt\n",
      "type the regular expression^Author\n",
      "file mbox-short.txthas total count  27 that matched the pattern ^Author\n"
     ]
    }
   ],
   "source": [
    "import os\n",
    "import re\n",
    "d= os.getcwd()\n",
    "print(d)\n",
    "d1=os.path.join(d,\"Desktop\")\n",
    "#print(d1)\n",
    "count=0\n",
    "filename=input('enter the name of file')\n",
    "d2=os.path.join(d1,filename)\n",
    "#print(d2)\n",
    "file2=open(d2)\n",
    "a=input(\"type the regular expression\")\n",
    "#print(file2)    \n",
    "for line in file2 :\n",
    "    line=line.rstrip()\n",
    "    if re.search(a,line):\n",
    "        count = count+1\n",
    "print(\"file \" + filename+\"has total count \" , count,\"that matched the pattern \" + a)"
   ]
  },
  {
   "cell_type": "markdown",
   "metadata": {},
   "source": [
    "### Exercise 2"
   ]
  },
  {
   "cell_type": "code",
   "execution_count": 9,
   "metadata": {},
   "outputs": [
    {
     "name": "stdout",
     "output_type": "stream",
     "text": [
      "Enter file namembox-short.txt\n",
      "The average is: 39756.92592592593\n"
     ]
    }
   ],
   "source": [
    "import re\n",
    "count = 0\n",
    "revisions = 0\n",
    "Enter=input(\"Enter file name\")\n",
    "file = open(Enter)\n",
    "for line in file:\n",
    "    line=line.rstrip()\n",
    "    if re.findall('New Revision: 397*', line):\n",
    "        rev_num = line[14:19]\n",
    "        count += 1\n",
    "        revisions = revisions + float(rev_num)\n",
    "average = revisions/count\n",
    "print(\"The average is: \" + str(average))"
   ]
  },
  {
   "cell_type": "markdown",
   "metadata": {},
   "source": [
    "## Chapter 12"
   ]
  },
  {
   "cell_type": "markdown",
   "metadata": {},
   "source": [
    "### Exercise 1"
   ]
  },
  {
   "cell_type": "code",
   "execution_count": 4,
   "metadata": {},
   "outputs": [
    {
     "name": "stdout",
     "output_type": "stream",
     "text": [
      "Enter url: http://data.pr4e.org/romeo.txt\n",
      "HTTP/1.1 200 OK\n",
      "Date: Thu, 03 Oct 2019 23:17:20 GMT\n",
      "Server: Apache/2.4.18 (Ubuntu)\n",
      "Last-Modified: Sat, 13 May 2017 11:22:22 GMT\n",
      "ETag: \"a7-54f6609245537\"\n",
      "Accept-Ranges: bytes\n",
      "Content-Length: 167\n",
      "Cache-Control: max-age=0, no-cache, no-store, must-revalidate\n",
      "Pragma: no-cache\n",
      "Expires: Wed, 11 Jan 1984 05:00:00 GMT\n",
      "Connection: close\n",
      "Content-Type: text/plain\n",
      "\n",
      "But soft what light through yonder window breaks\n",
      "It is the east and Juliet is the sun\n",
      "Arise fair sun and kill the envious moon\n",
      "Who is already sick and pale with grief\n"
     ]
    }
   ],
   "source": [
    "import socket\n",
    "\n",
    "user_url = input(\"Enter url: \")\n",
    "#user_url = 'http://www.py4inf.com/code/romeo.txt'\n",
    "try:\n",
    "    host = user_url.split('/')[2]\n",
    "    mysock = socket.socket(socket.AF_INET, socket.SOCK_STREAM)\n",
    "    mysock.connect((host, 80))\n",
    "    mysock.send('GET {} HTTP/1.0\\r\\n\\r\\n'.format(user_url).encode())\n",
    "except:\n",
    "    print (\"enter a valid URL\")\n",
    "\n",
    "while True:\n",
    "    data = mysock.recv(512)\n",
    "    if (len(data) < 1):\n",
    "        break\n",
    "    print(data.decode(),end='')\n",
    "\n",
    "mysock.close()\n"
   ]
  },
  {
   "cell_type": "markdown",
   "metadata": {},
   "source": [
    "### Exercise 2"
   ]
  },
  {
   "cell_type": "code",
   "execution_count": 5,
   "metadata": {},
   "outputs": [
    {
     "name": "stdout",
     "output_type": "stream",
     "text": [
      "Enter url: http://data.pr4e.org/romeo.txt\n",
      "536\n"
     ]
    }
   ],
   "source": [
    "import socket\n",
    "import os\n",
    "\n",
    "user_url = input(\"Enter url: \")\n",
    "#user_url = 'http://www.py4inf.com/code/romeo.txt'\n",
    "try:\n",
    "    host_name = user_url.split(\"/\")[2]\n",
    "    mysock = socket.socket(socket.AF_INET, socket.SOCK_STREAM)\n",
    "    mysock.connect((host_name, 80))\n",
    "    mysock.send('GET {} HTTP/1.0\\r\\n\\r\\n'.format(user_url).encode())\n",
    "except:\n",
    "    print (\"Please enter a valid URL\")\n",
    "    os.sys.exit(1)\n",
    "\n",
    "count = 0\n",
    "while True:\n",
    "    data = mysock.recv(512)\n",
    "    count += len(data)\n",
    "    if (len(data) < 1) or count >= 3000:\n",
    "        break\n",
    "    #print(data.decode(),end='')\n",
    "\n",
    "mysock.close()\n",
    "print (count)\n"
   ]
  },
  {
   "cell_type": "markdown",
   "metadata": {},
   "source": [
    "### Exercise 3"
   ]
  },
  {
   "cell_type": "code",
   "execution_count": 6,
   "metadata": {},
   "outputs": [
    {
     "name": "stdout",
     "output_type": "stream",
     "text": [
      "But soft what light through yonder window breaks\n",
      "It is the east and Juliet is the sun\n",
      "Arise fair sun and kill the envious moon\n",
      "Who is already sick and pale with grief\n",
      "167\n"
     ]
    }
   ],
   "source": [
    "import urllib.request\n",
    "import urllib.parse\n",
    "import urllib.error\n",
    "\n",
    "data = urllib.request.urlopen('http://data.pr4e.org/romeo.txt')\n",
    "\n",
    "char = 0\n",
    "for line in data:\n",
    "    words = line.decode()\n",
    "    char = char + len(words)\n",
    "    if char < 3000:\n",
    "        print(line.decode().strip())\n",
    "print(char)\n"
   ]
  },
  {
   "cell_type": "markdown",
   "metadata": {},
   "source": [
    "### Exercise 4"
   ]
  },
  {
   "cell_type": "code",
   "execution_count": 7,
   "metadata": {},
   "outputs": [
    {
     "name": "stdout",
     "output_type": "stream",
     "text": [
      "Enter the Url https://docs.python.org\n",
      "25\n"
     ]
    }
   ],
   "source": [
    "import urllib.request\n",
    "import urllib.parse\n",
    "import urllib.error\n",
    "import ssl\n",
    "from bs4 import BeautifulSoup\n",
    "\n",
    "counter = 0                               \n",
    "ctx = ssl.create_default_context()\n",
    "ctx.check_hostname = False\n",
    "ctx.verify_mode = ssl.CERT_NONE\n",
    "\n",
    "link = input('Enter the Url ')\n",
    "htmlLink = urllib.request.urlopen(link, context=ctx).read()\n",
    "soup = BeautifulSoup(htmlLink, 'html.parser')\n",
    "tags = soup('p')\n",
    "for tag in tags:\n",
    "    counter += 1\n",
    "print(counter)"
   ]
  },
  {
   "cell_type": "markdown",
   "metadata": {},
   "source": [
    "### Exercise 5"
   ]
  },
  {
   "cell_type": "code",
   "execution_count": 8,
   "metadata": {},
   "outputs": [
    {
     "name": "stdout",
     "output_type": "stream",
     "text": [
      "But soft what light through yonder window breaks\n",
      "It is the east and Juliet is the sun\n",
      "Arise fair sun and kill the envious moon\n",
      "Who is already s\n",
      "ick and pale with grief\n",
      "\n"
     ]
    }
   ],
   "source": [
    "import socket\n",
    "import re\n",
    "\n",
    "my_sock = socket.socket(socket.AF_INET, socket.SOCK_STREAM)\n",
    "my_sock.connect(('data.pr4e.org', 80))\n",
    "cmd = 'GET http://data.pr4e.org/romeo.txt HTTP/1.0\\r\\n\\r\\n'.encode()\n",
    "my_sock.send(cmd)\n",
    "\n",
    "data = my_sock.recv(512)\n",
    "text = data.decode()\n",
    "header_end_pos = text.find('\\r\\n\\r\\n') + 4\n",
    "print(text[header_end_pos:])\n",
    "while True: \n",
    "    data = my_sock.recv(512)\n",
    "    if not data:\n",
    "        break\n",
    "    print(data.decode())\n",
    "my_sock.close()"
   ]
  },
  {
   "cell_type": "code",
   "execution_count": null,
   "metadata": {},
   "outputs": [],
   "source": []
  }
 ],
 "metadata": {
  "kernelspec": {
   "display_name": "Python 3",
   "language": "python",
   "name": "python3"
  },
  "language_info": {
   "codemirror_mode": {
    "name": "ipython",
    "version": 3
   },
   "file_extension": ".py",
   "mimetype": "text/x-python",
   "name": "python",
   "nbconvert_exporter": "python",
   "pygments_lexer": "ipython3",
   "version": "3.7.3"
  }
 },
 "nbformat": 4,
 "nbformat_minor": 2
}
